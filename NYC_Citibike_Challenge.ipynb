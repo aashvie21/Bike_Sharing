{
 "cells": [
  {
   "cell_type": "code",
   "execution_count": null,
   "metadata": {},
   "outputs": [],
   "source": [
    "import pandas as pd"
   ]
  },
  {
   "cell_type": "code",
   "execution_count": 2,
   "metadata": {},
   "outputs": [
    {
     "data": {
      "text/html": [
       "<div>\n",
       "<style scoped>\n",
       "    .dataframe tbody tr th:only-of-type {\n",
       "        vertical-align: middle;\n",
       "    }\n",
       "\n",
       "    .dataframe tbody tr th {\n",
       "        vertical-align: top;\n",
       "    }\n",
       "\n",
       "    .dataframe thead th {\n",
       "        text-align: right;\n",
       "    }\n",
       "</style>\n",
       "<table border=\"1\" class=\"dataframe\">\n",
       "  <thead>\n",
       "    <tr style=\"text-align: right;\">\n",
       "      <th></th>\n",
       "      <th>tripduration</th>\n",
       "      <th>starttime</th>\n",
       "      <th>stoptime</th>\n",
       "      <th>start station id</th>\n",
       "      <th>start station name</th>\n",
       "      <th>start station latitude</th>\n",
       "      <th>start station longitude</th>\n",
       "      <th>end station id</th>\n",
       "      <th>end station name</th>\n",
       "      <th>end station latitude</th>\n",
       "      <th>end station longitude</th>\n",
       "      <th>bikeid</th>\n",
       "      <th>usertype</th>\n",
       "      <th>birth year</th>\n",
       "      <th>gender</th>\n",
       "    </tr>\n",
       "  </thead>\n",
       "  <tbody>\n",
       "    <tr>\n",
       "      <td>0</td>\n",
       "      <td>393</td>\n",
       "      <td>2019-08-01 00:00:01.4680</td>\n",
       "      <td>2019-08-01 00:06:35.3780</td>\n",
       "      <td>531.0</td>\n",
       "      <td>Forsyth St &amp; Broome St</td>\n",
       "      <td>40.718939</td>\n",
       "      <td>-73.992663</td>\n",
       "      <td>408.0</td>\n",
       "      <td>Market St &amp; Cherry St</td>\n",
       "      <td>40.710762</td>\n",
       "      <td>-73.994004</td>\n",
       "      <td>35305</td>\n",
       "      <td>Subscriber</td>\n",
       "      <td>1996</td>\n",
       "      <td>2</td>\n",
       "    </tr>\n",
       "    <tr>\n",
       "      <td>1</td>\n",
       "      <td>627</td>\n",
       "      <td>2019-08-01 00:00:01.9290</td>\n",
       "      <td>2019-08-01 00:10:29.7840</td>\n",
       "      <td>274.0</td>\n",
       "      <td>Lafayette Ave &amp; Fort Greene Pl</td>\n",
       "      <td>40.686919</td>\n",
       "      <td>-73.976682</td>\n",
       "      <td>3409.0</td>\n",
       "      <td>Bergen St &amp; Smith St</td>\n",
       "      <td>40.686744</td>\n",
       "      <td>-73.990632</td>\n",
       "      <td>38822</td>\n",
       "      <td>Subscriber</td>\n",
       "      <td>1998</td>\n",
       "      <td>2</td>\n",
       "    </tr>\n",
       "  </tbody>\n",
       "</table>\n",
       "</div>"
      ],
      "text/plain": [
       "   tripduration                 starttime                  stoptime  \\\n",
       "0           393  2019-08-01 00:00:01.4680  2019-08-01 00:06:35.3780   \n",
       "1           627  2019-08-01 00:00:01.9290  2019-08-01 00:10:29.7840   \n",
       "\n",
       "   start station id              start station name  start station latitude  \\\n",
       "0             531.0          Forsyth St & Broome St               40.718939   \n",
       "1             274.0  Lafayette Ave & Fort Greene Pl               40.686919   \n",
       "\n",
       "   start station longitude  end station id       end station name  \\\n",
       "0               -73.992663           408.0  Market St & Cherry St   \n",
       "1               -73.976682          3409.0   Bergen St & Smith St   \n",
       "\n",
       "   end station latitude  end station longitude  bikeid    usertype  \\\n",
       "0             40.710762             -73.994004   35305  Subscriber   \n",
       "1             40.686744             -73.990632   38822  Subscriber   \n",
       "\n",
       "   birth year  gender  \n",
       "0        1996       2  \n",
       "1        1998       2  "
      ]
     },
     "execution_count": 2,
     "metadata": {},
     "output_type": "execute_result"
    }
   ],
   "source": [
    "# 1. Create a DataFrame for the 201908-citibike-tripdata data. \n",
    "bikes_df = pd.read_csv(\"201908-citibike-tripdata.csv\")\n",
    "bikes_df.head(2)"
   ]
  },
  {
   "cell_type": "code",
   "execution_count": 3,
   "metadata": {},
   "outputs": [
    {
     "name": "stdout",
     "output_type": "stream",
     "text": [
      "<class 'pandas.core.frame.DataFrame'>\n",
      "RangeIndex: 2344224 entries, 0 to 2344223\n",
      "Data columns (total 15 columns):\n",
      "tripduration               int64\n",
      "starttime                  object\n",
      "stoptime                   object\n",
      "start station id           float64\n",
      "start station name         object\n",
      "start station latitude     float64\n",
      "start station longitude    float64\n",
      "end station id             float64\n",
      "end station name           object\n",
      "end station latitude       float64\n",
      "end station longitude      float64\n",
      "bikeid                     int64\n",
      "usertype                   object\n",
      "birth year                 int64\n",
      "gender                     int64\n",
      "dtypes: float64(6), int64(4), object(5)\n",
      "memory usage: 268.3+ MB\n"
     ]
    }
   ],
   "source": [
    "# 2. Check the datatypes of your columns. \n",
    "bikes_df.info()"
   ]
  },
  {
   "cell_type": "code",
   "execution_count": 4,
   "metadata": {},
   "outputs": [
    {
     "data": {
      "text/plain": [
       "0    393\n",
       "1    627\n",
       "Name: tripduration, dtype: int64"
      ]
     },
     "execution_count": 4,
     "metadata": {},
     "output_type": "execute_result"
    }
   ],
   "source": [
    "bikes_df[\"tripduration\"].head(2)"
   ]
  },
  {
   "cell_type": "code",
   "execution_count": 5,
   "metadata": {},
   "outputs": [
    {
     "data": {
      "text/plain": [
       "0   1970-01-01 00:06:33\n",
       "1   1970-01-01 00:10:27\n",
       "Name: tripduration dt, dtype: datetime64[ns]"
      ]
     },
     "execution_count": 5,
     "metadata": {},
     "output_type": "execute_result"
    }
   ],
   "source": [
    "# 3. Convert the 'tripduration' column to datetime datatype.\n",
    "bikes_df[\"tripduration dt\"] = pd.to_datetime(bikes_df[\"tripduration\"],unit='s')\n",
    "bikes_df[\"tripduration dt\"].head(2)"
   ]
  },
  {
   "cell_type": "code",
   "execution_count": 6,
   "metadata": {},
   "outputs": [
    {
     "name": "stdout",
     "output_type": "stream",
     "text": [
      "<class 'pandas.core.frame.DataFrame'>\n",
      "RangeIndex: 2344224 entries, 0 to 2344223\n",
      "Data columns (total 16 columns):\n",
      "tripduration               int64\n",
      "starttime                  object\n",
      "stoptime                   object\n",
      "start station id           float64\n",
      "start station name         object\n",
      "start station latitude     float64\n",
      "start station longitude    float64\n",
      "end station id             float64\n",
      "end station name           object\n",
      "end station latitude       float64\n",
      "end station longitude      float64\n",
      "bikeid                     int64\n",
      "usertype                   object\n",
      "birth year                 int64\n",
      "gender                     int64\n",
      "tripduration dt            datetime64[ns]\n",
      "dtypes: datetime64[ns](1), float64(6), int64(4), object(5)\n",
      "memory usage: 286.2+ MB\n"
     ]
    }
   ],
   "source": [
    "# 4. Check the datatypes of your columns. \n",
    "bikes_df.info()"
   ]
  },
  {
   "cell_type": "code",
   "execution_count": null,
   "metadata": {},
   "outputs": [],
   "source": [
    "# 5. Export the Dataframe as a new CSV file without the index.\n",
    "bikes_df.to_csv(\"CitiBikes.csv\",index=False)"
   ]
  },
  {
   "cell_type": "code",
   "execution_count": null,
   "metadata": {},
   "outputs": [],
   "source": []
  }
 ],
 "metadata": {
  "kernelspec": {
   "display_name": "Python 3",
   "language": "python",
   "name": "python3"
  },
  "language_info": {
   "codemirror_mode": {
    "name": "ipython",
    "version": 3
   },
   "file_extension": ".py",
   "mimetype": "text/x-python",
   "name": "python",
   "nbconvert_exporter": "python",
   "pygments_lexer": "ipython3",
   "version": "3.7.4"
  },
  "varInspector": {
   "cols": {
    "lenName": 16,
    "lenType": 16,
    "lenVar": 40
   },
   "kernels_config": {
    "python": {
     "delete_cmd_postfix": "",
     "delete_cmd_prefix": "del ",
     "library": "var_list.py",
     "varRefreshCmd": "print(var_dic_list())"
    },
    "r": {
     "delete_cmd_postfix": ") ",
     "delete_cmd_prefix": "rm(",
     "library": "var_list.r",
     "varRefreshCmd": "cat(var_dic_list()) "
    }
   },
   "types_to_exclude": [
    "module",
    "function",
    "builtin_function_or_method",
    "instance",
    "_Feature"
   ],
   "window_display": false
  }
 },
 "nbformat": 4,
 "nbformat_minor": 4
}
